{
 "cells": [
  {
   "cell_type": "code",
   "execution_count": 2,
   "id": "f71ce97d",
   "metadata": {},
   "outputs": [],
   "source": [
    "from bs4 import *\n",
    "import requests\n",
    "import os"
   ]
  },
  {
   "cell_type": "code",
   "execution_count": 3,
   "id": "ef7d73c8",
   "metadata": {},
   "outputs": [],
   "source": [
    "def folder_create(folder_name):\n",
    "    os.mkdir(folder_name)"
   ]
  },
  {
   "cell_type": "code",
   "execution_count": 4,
   "id": "60525dfa",
   "metadata": {},
   "outputs": [],
   "source": [
    "def download_images(images, folder_name):\n",
    "    count = 0\n",
    "    print(f\"Found {len(images)} images\")\n",
    "    if len(images) != 0:\n",
    "        for i, image in enumerate(images):\n",
    "            image_link = image[\"src\"]\n",
    "            r = requests.get(image_link).content\n",
    "            with open(f\"{folder_name}/images{i+1}.jpg\", \"wb+\") as f:\n",
    "                f.write(r)\n",
    "                count += 1\n",
    "        if count == len(images):\n",
    "            print(\"All the images have been downloaded!\")\n",
    "        else:\n",
    "            print(f\" {count} images have been downloaded out of {len(images)}\")"
   ]
  },
  {
   "cell_type": "code",
   "execution_count": 5,
   "id": "f057070e",
   "metadata": {},
   "outputs": [],
   "source": [
    "def main(urls,folder_name):\n",
    "    folder_create(folder_name)\n",
    "    all_images = []\n",
    "\n",
    "    for i in urls:\n",
    "        r = requests.get(i)\n",
    "        soup = BeautifulSoup(r.text, 'html.parser')\n",
    "        images = soup.findAll('img')\n",
    "        all_images += images[0:-27]\n",
    "    print(\"Num of images are\", len(all_images))\n",
    "    comfirm = input('yes or no ')\n",
    "    if comfirm == 'yes':\n",
    "        download_images(all_images,folder_name)"
   ]
  },
  {
   "cell_type": "code",
   "execution_count": 8,
   "id": "1891026f",
   "metadata": {},
   "outputs": [
    {
     "name": "stdout",
     "output_type": "stream",
     "text": [
      "how many pages 6\n",
      "what to download anime\n",
      "where to store anime\n",
      "Num of images are 0\n",
      "yes or no no\n"
     ]
    }
   ],
   "source": [
    "pages = int(input('how many pages '))\n",
    "key = input('what to download ')\n",
    "folder_name = input('where to store ')\n",
    "urls = []\n",
    "for i in range(pages):\n",
    "    urls.append(\"https://burst.shopify.com/photos/search?page=\"+str(i)+\"&q=\"+key)\n",
    "    \n",
    "main(urls, folder_name)\n"
   ]
  },
  {
   "cell_type": "code",
   "execution_count": null,
   "id": "24bb2e5e",
   "metadata": {},
   "outputs": [],
   "source": []
  }
 ],
 "metadata": {
  "kernelspec": {
   "display_name": "Python 3",
   "language": "python",
   "name": "python3"
  },
  "language_info": {
   "codemirror_mode": {
    "name": "ipython",
    "version": 3
   },
   "file_extension": ".py",
   "mimetype": "text/x-python",
   "name": "python",
   "nbconvert_exporter": "python",
   "pygments_lexer": "ipython3",
   "version": "3.8.8"
  }
 },
 "nbformat": 4,
 "nbformat_minor": 5
}
